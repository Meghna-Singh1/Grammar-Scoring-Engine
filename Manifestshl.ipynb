{
 "cells": [
  {
   "cell_type": "code",
   "execution_count": 3,
   "id": "4e343288-3059-468a-ae05-f8083ef99f52",
   "metadata": {},
   "outputs": [],
   "source": [
    "# loading essential libraries #\n",
    "import numpy as np              \n",
    "import pandas as pd             \n",
    "import librosa                  \n",
    "import torch\n",
    "import pandas as pd"
   ]
  },
  {
   "cell_type": "code",
   "execution_count": 6,
   "id": "30652090-574e-4b5c-a2a9-8fe02d8f2ac2",
   "metadata": {},
   "outputs": [
    {
     "name": "stdout",
     "output_type": "stream",
     "text": [
      "Train shape: (444, 2)\n",
      "Test shape: (195, 1)\n"
     ]
    }
   ],
   "source": [
    "#loading csv\n",
    "train_df = pd.read_csv(\"train.csv\")\n",
    "test_df = pd.read_csv(\"test.csv\")\n",
    "\n",
    "print(\"Train shape:\", train_df.shape)\n",
    "print(\"Test shape:\", test_df.shape)\n",
    "\n"
   ]
  },
  {
   "cell_type": "code",
   "execution_count": 8,
   "id": "8c44cd95-7045-465e-9626-07feb2b7cc57",
   "metadata": {},
   "outputs": [
    {
     "name": "stdout",
     "output_type": "stream",
     "text": [
      "\n",
      "Missing Values:\n",
      "filename    0\n",
      "label       0\n",
      "dtype: int64\n"
     ]
    }
   ],
   "source": [
    "#data cleaning and preprocessing\n",
    "print(\"\\nMissing Values:\")\n",
    "print(train_df.isnull().sum())"
   ]
  },
  {
   "cell_type": "code",
   "execution_count": 10,
   "id": "b04dead5-732e-4036-bddd-389f638a63c4",
   "metadata": {},
   "outputs": [
    {
     "name": "stdout",
     "output_type": "stream",
     "text": [
      "Visualizing Sample Audio: audio_1261.wav\n"
     ]
    },
    {
     "data": {
      "image/png": "[encoded data removed]",
      "text/plain": [
       "<Figure size 1000x300 with 1 Axes>"
      ]
     },
     "metadata": {},
     "output_type": "display_data"
    }
   ],
   "source": [
    "#Visualization\n",
    "import librosa\n",
    "import librosa.display\n",
    "import matplotlib.pyplot as plt\n",
    "\n",
    "sample_filename = train_df.iloc[0]['filename']\n",
    "sample_path = \"audios_train/\" + sample_filename\n",
    "print(f\"Visualizing Sample Audio: {sample_filename}\")\n",
    "y, sr = librosa.load(sample_path, sr=None)\n",
    "plt.figure(figsize=(10, 3))\n",
    "librosa.display.waveshow(y, sr=sr)\n",
    "plt.title(\"Waveform\")\n",
    "plt.xlabel(\"Time (s)\")\n",
    "plt.ylabel(\"Amplitude\")\n",
    "plt.show()\n"
   ]
  },
  {
   "cell_type": "code",
   "execution_count": 11,
   "id": "a50f9421-8fde-4100-ba25-352494918916",
   "metadata": {},
   "outputs": [],
   "source": [
    "#Feature Extraction Pipeline\n",
    "import librosa\n",
    "import numpy as np\n",
    "\n",
    "def extract_features(file_path):\n",
    "\n",
    "    y, sr = librosa.load(file_path, sr=None)\n",
    "    features = []\n",
    "\n",
    "    mfccs = librosa.feature.mfcc(y=y, sr=sr, n_mfcc=13)\n",
    "    features.extend(np.mean(mfccs, axis=1))  \n",
    "    features.extend(np.std(mfccs, axis=1))   \n",
    "    chroma = librosa.feature.chroma_stft(y=y, sr=sr)\n",
    "    features.extend(np.mean(chroma, axis=1))\n",
    "    features.extend(np.std(chroma, axis=1))\n",
    "    contrast = librosa.feature.spectral_contrast(y=y, sr=sr)\n",
    "    features.extend(np.mean(contrast, axis=1))\n",
    "    features.extend(np.std(contrast, axis=1))\n",
    "    zcr = librosa.feature.zero_crossing_rate(y)\n",
    "    features.append(np.mean(zcr))\n",
    "    features.append(np.std(zcr))\n",
    "    rms = librosa.feature.rms(y=y)\n",
    "    features.append(np.mean(rms))\n",
    "    features.append(np.std(rms))\n",
    "\n",
    "    return features\n"
   ]
  },
  {
   "cell_type": "code",
   "execution_count": 12,
   "id": "b28877cd-549c-448c-b681-33895af92323",
   "metadata": {},
   "outputs": [
    {
     "name": "stderr",
     "output_type": "stream",
     "text": [
      "DEPRECATION: Loading egg at c:\\program files\\python311\\lib\\site-packages\\vboxapi-1.0-py3.11.egg is deprecated. pip 24.3 will enforce this behaviour change. A possible replacement is to use pip for package installation.. Discussion can be found at https://github.com/pypa/pip/issues/12330\n",
      "\n",
      "[notice] A new release of pip is available: 23.3.2 -> 25.0.1\n",
      "[notice] To update, run: python.exe -m pip install --upgrade pip\n"
     ]
    },
    {
     "name": "stdout",
     "output_type": "stream",
     "text": [
      "Defaulting to user installation because normal site-packages is not writeable\n",
      "Requirement already satisfied: tqdm in c:\\users\\prave\\appdata\\roaming\\python\\python311\\site-packages (4.66.1)\n",
      "Requirement already satisfied: colorama in c:\\users\\prave\\appdata\\roaming\\python\\python311\\site-packages (from tqdm) (0.4.6)\n"
     ]
    },
    {
     "name": "stderr",
     "output_type": "stream",
     "text": [
      "Extracting features: 100%|███████████████████████████████████████████████████████████| 444/444 [01:54<00:00,  3.86it/s]"
     ]
    },
    {
     "name": "stdout",
     "output_type": "stream",
     "text": [
      "Feature extraction complete!\n",
      "X shape: (444, 68)\n",
      "y shape: (444,)\n"
     ]
    },
    {
     "name": "stderr",
     "output_type": "stream",
     "text": [
      "\n"
     ]
    }
   ],
   "source": [
    "#training set feature extraction\n",
    "!pip install tqdm\n",
    "from tqdm import tqdm\n",
    "import os\n",
    "#path\n",
    "audio_folder = \"audios_train/\"\n",
    "\n",
    "X = []\n",
    "y = []\n",
    "\n",
    "for idx, row in tqdm(train_df.iterrows(), total=len(train_df), desc=\"Extracting features\"):\n",
    "    file_path = os.path.join(audio_folder, row['filename'])  # Full path to the audio file\n",
    "    features = extract_features(file_path)  # Extract audio features\n",
    "    X.append(features)  # Add feature vector to dataset\n",
    "    y.append(row['label'])  # Add label to target list\n",
    "\n",
    "X = np.array(X)\n",
    "y = np.array(y)\n",
    "\n",
    "print(\"Feature extraction complete!\")\n",
    "print(\"X shape:\", X.shape)\n",
    "print(\"y shape:\", y.shape)\n"
   ]
  },
  {
   "cell_type": "code",
   "execution_count": 18,
   "id": "bb035de7-b42c-4aa5-9498-78e88bd407f3",
   "metadata": {},
   "outputs": [],
   "source": [
    "from sklearn.model_selection import train_test_split\n",
    "\n",
    "# Split the dataset into training and test sets (80% train, 20% test)\n",
    "X_train, X_val, y_train, y_val = train_test_split(X, y, test_size=0.3, random_state=42)\n"
   ]
  },
  {
   "cell_type": "code",
   "execution_count": 19,
   "id": "4284ca39-b543-4276-aebc-abff395c4868",
   "metadata": {},
   "outputs": [
    {
     "name": "stdout",
     "output_type": "stream",
     "text": [
      "Validation MSE: 0.7845\n",
      "Validation Pearson Correlation: 0.7040\n"
     ]
    }
   ],
   "source": [
    "from sklearn.ensemble import RandomForestRegressor\n",
    "from sklearn.metrics import mean_squared_error\n",
    "from scipy.stats import pearsonr\n",
    "\n",
    "# Initialize and train a Random Forest Regressor\n",
    "model = RandomForestRegressor(n_estimators=100, random_state=42)\n",
    "model.fit(X_train, y_train)\n",
    "\n",
    "y_pred = model.predict(X_val)\n",
    "\n",
    "\n",
    "mse = mean_squared_error(y_val, y_pred)\n",
    "pearson_corr, _ = pearsonr(y_val, y_pred)\n",
    "\n",
    "print(f\"Validation MSE: {mse:.4f}\")  \n",
    "print(f\"Validation Pearson Correlation: {pearson_corr:.4f}\")  \n"
   ]
  },
  {
   "cell_type": "code",
   "execution_count": 17,
   "id": "edaeafd8-9ee3-4f96-bd75-7a8492a3ccc3",
   "metadata": {},
   "outputs": [
    {
     "name": "stdout",
     "output_type": "stream",
     "text": [
      "[XGBoost] MSE: 0.8376\n",
      "[XGBoost] Pearson Correlation: 0.6314\n"
     ]
    }
   ],
   "source": [
    "from xgboost import XGBRegressor\n",
    "\n",
    "xgb_model = XGBRegressor(n_estimators=200, max_depth=5, learning_rate=0.1, random_state=42)\n",
    "\n",
    "xgb_model.fit(X_train, y_train)\n",
    "\n",
    "xgb_pred = xgb_model.predict(X_val)\n",
    "\n",
    "from sklearn.metrics import mean_squared_error\n",
    "from scipy.stats import pearsonr\n",
    "\n",
    "mse = mean_squared_error(y_val, xgb_pred)\n",
    "\n",
    "pearson_corr, _ = pearsonr(y_val, xgb_pred)\n",
    "\n",
    "\n",
    "print(f\"[XGBoost] MSE: {mse:.4f}\")\n",
    "print(f\"[XGBoost] Pearson Correlation: {pearson_corr:.4f}\")\n"
   ]
  },
  {
   "cell_type": "code",
   "execution_count": 20,
   "id": "91c07e64-2ca2-415a-968f-7cfbf9ec16a5",
   "metadata": {},
   "outputs": [
    {
     "name": "stderr",
     "output_type": "stream",
     "text": [
      "100%|████████████████████████████████████████████████████████████████████████████████| 195/195 [00:50<00:00,  3.83it/s]"
     ]
    },
    {
     "name": "stdout",
     "output_type": "stream",
     "text": [
      "Test feature extraction complete. Shape: (195, 68)\n"
     ]
    },
    {
     "name": "stderr",
     "output_type": "stream",
     "text": [
      "\n"
     ]
    }
   ],
   "source": [
    "#test feature extraction\n",
    "# Path to the test audio folder\n",
    "test_audio_folder = \"audios_test/\"\n",
    "\n",
    "# Lists to store features and corresponding filenames\n",
    "X_test = []\n",
    "filenames = []\n",
    "\n",
    "# Loop through each test audio file and extract features\n",
    "for idx, row in tqdm(test_df.iterrows(), total=len(test_df)):\n",
    "    file_path = os.path.join(test_audio_folder, row['filename'])\n",
    "    features = extract_features(file_path)\n",
    "    X_test.append(features)\n",
    "    filenames.append(row['filename'])\n",
    "\n",
    "# Convert features to NumPy array\n",
    "X_test = np.array(X_test)\n",
    "print(\"Test feature extraction complete. Shape:\", X_test.shape)"
   ]
  },
  {
   "cell_type": "code",
   "execution_count": 21,
   "id": "fdbbddaf-2081-4dbc-b823-ecd37366bbfd",
   "metadata": {},
   "outputs": [
    {
     "name": "stdout",
     "output_type": "stream",
     "text": [
      "Submission file saved as submission.csv\n"
     ]
    }
   ],
   "source": [
    "#Generate Csv\n",
    "# Make predictions using the trained Random Forest model\n",
    "test_preds = model.predict(X_test)  \n",
    "\n",
    "submission = test_df.copy()\n",
    "submission['label'] = test_preds\n",
    "\n",
    "submission.to_csv(\"submission.csv\", index=False)\n",
    "print(\"Submission file saved as submission.csv\")\n"
   ]
  },
  {
   "cell_type": "code",
   "execution_count": null,
   "id": "6fba4d9f-e79a-4ff4-a8fb-442e590df0a4",
   "metadata": {},
   "outputs": [],
   "source": []
  }
 ],
 "metadata": {
  "kernelspec": {
   "display_name": "Python 3 (ipykernel)",
   "language": "python",
   "name": "python3"
  },
  "language_info": {
   "codemirror_mode": {
    "name": "ipython",
    "version": 3
   },
   "file_extension": ".py",
   "mimetype": "text/x-python",
   "name": "python",
   "nbconvert_exporter": "python",
   "pygments_lexer": "ipython3",
   "version": "3.11.4"
  }
 },
 "nbformat": 4,
 "nbformat_minor": 5
}
